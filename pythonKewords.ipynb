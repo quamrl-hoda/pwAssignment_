{
 "cells": [
  {
   "cell_type": "code",
   "execution_count": 2,
   "id": "01cbef45-7b51-4ca3-8173-cbd4365d3bdd",
   "metadata": {},
   "outputs": [],
   "source": [
    "# 1. Explain the significance of Python keywords and provide examples of five keywords.\n",
    "\n",
    "#  The keywords in Python are reserved words that have specific meanings  \n",
    "#   and functions within the language.\n",
    "#  we can't use them as variable names or function names or anything like \n",
    "#   that\n",
    "#  Example --> if, for, while, class, import\n"
   ]
  },
  {
   "cell_type": "code",
   "execution_count": null,
   "id": "26b7c452-e141-4397-895f-a5778070f217",
   "metadata": {},
   "outputs": [],
   "source": [
    "#  2.Describe the rules for defining identifiers in Python and provide an example\n",
    "\n",
    "#   Identifiers can contain letters (both uppercase and lowercase), digits, and     underscores.\n",
    "  \r",
    "#    Identifiers must start with a letter or an underscore, but they can't start with a digit\n",
    "   \n",
    "#    Iddentifiers are case-sensitive, so Namele and namele are consider d different identifie.\n",
    "\r",
    "#  Identifiers can't be the same as any of Python's reserved keywords,   ke if, for, def, and so on.\n",
    "\n",
    "# Identifiers should be descriptive and follow a consistentam  ing convention, lvariablenname_case or camelsaeCase.\n",
    "\n",
    "#  Valid identifier# \n",
    "# my_var = 42\n",
    "# myClass = \"Hello, World!\"\n",
    "# _private_variable = 3.14\n",
    "\n",
    "#  Invalid identifier\n",
    "# my-variable = 20 \n",
    "# my variable = 30."
   ]
  },
  {
   "cell_type": "code",
   "execution_count": null,
   "id": "0f6e04f0-777f-48ff-8cc5-1d78bbd4b012",
   "metadata": {},
   "outputs": [],
   "source": [
    "#  3. What are comments in Python, and why are they useful, Provide an example\n",
    "\n",
    "#  Comments are essentially notes or explanations that we, as programmers, add to our code. They don't actually affect the way the code runs, but they can make a\n",
    "#  huge difference in terms of understanding and maintaining our programs.\n",
    "\n",
    "#  Example\n",
    "  \n",
    "#     #This is a single-line comment, used to explain a specific line of code\n",
    " \n",
    "#  \"\"\"\n",
    "#  This is a multi-line comment, which can be used to provide\n",
    "#  a more detailed explanation or description of a larger\n",
    "#  section of code.\n",
    "#  \"\"\""
   ]
  },
  {
   "cell_type": "code",
   "execution_count": 40,
   "id": "cdf728d3-c278-4d0b-917c-2942c3167a79",
   "metadata": {},
   "outputs": [],
   "source": [
    "# 4. Why is proper indentation important in Python\n",
    "# Here's why proper indentation is so important in Python?\n",
    "\n",
    "#  Readability: Consistent indentation makes our code much more readable and easier to understand. It visually separates different blocks of code, like functions, loops, and conditional statements, making the overall structure of our program more apparent.\n",
    "\n",
    "#  Syntax: Python's interpreter uses the indentation to determine where one block of code ends and another begins. If the indentation is inconsistent or incorrect, our code won't run, and we'll get a syntax error.\n",
    "\n",
    "#  Scope: Indentation is how Python defines the scope of variables, functions, and other code elements. The level of indentation determines which parts of our code can access and use certain variables or functions."
   ]
  },
  {
   "cell_type": "code",
   "execution_count": 42,
   "id": "53606482-306c-4fec-a3fd-46295cf05f5d",
   "metadata": {},
   "outputs": [],
   "source": [
    "# 5. What happens if indentation is incorrect in Python?\n",
    "#     If the indentation is incorrect, we'll likely encounter an IndentationError. \n",
    "#     example : \n",
    "# if True:\n",
    "#  print(\"Hello, World!\")# This line should be indented\n"
   ]
  },
  {
   "cell_type": "code",
   "execution_count": 44,
   "id": "003ae4aa-727e-4b3c-8aeb-b0cf1c8ed0a2",
   "metadata": {},
   "outputs": [],
   "source": [
    "# 6. Differentiate between expression and statement in Python with examples.\n",
    "#  Expression\n",
    "#     An expression is a piece of code that produces a value. It can be as simple as a single value or a combination of values, \n",
    "#     variables, operators, and function calls that evaluate to a value\n",
    "#     examlple:\n",
    "#       simple value\n",
    "#            45\n",
    "#       Arithmetic Operation \n",
    "#            8+3\n",
    "#  Statement\n",
    "#      A statement is a complete unit of code that performs some action. It doesn't necessarily produce a value, but it may incorporate expressions within it. \n",
    "#      Statements can include loops, conditionals, assignments, and function definitions.\n",
    "#     example :\n",
    "#        Assignment statement\n",
    "#           x = 3 + 4\n",
    "#        if statemnet\n",
    "#           if x > 5:\n",
    "#              print(\"x is greater than 5\")\n",
    "\n",
    "#    In Summary :\n",
    "#         An expression evaluates to a value.\n",
    "#         A statement performs an action.\n"
   ]
  }
 ],
 "metadata": {
  "kernelspec": {
   "display_name": "Python 3 (ipykernel)",
   "language": "python",
   "name": "python3"
  },
  "language_info": {
   "codemirror_mode": {
    "name": "ipython",
    "version": 3
   },
   "file_extension": ".py",
   "mimetype": "text/x-python",
   "name": "python",
   "nbconvert_exporter": "python",
   "pygments_lexer": "ipython3",
   "version": "3.11.7"
  }
 },
 "nbformat": 4,
 "nbformat_minor": 5
}
