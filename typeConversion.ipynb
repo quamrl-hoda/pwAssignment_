{
 "cells": [
  {
   "cell_type": "code",
   "execution_count": 1,
   "id": "8fc69bad-249e-4a10-8ba1-950b1d561236",
   "metadata": {},
   "outputs": [
    {
     "name": "stdout",
     "output_type": "stream",
     "text": [
      "15\n",
      "15.0\n"
     ]
    }
   ],
   "source": [
    "# 1 Convert a integer to a floating-point number.\n",
    "a = 15\n",
    "b = float(a)\n",
    "print(a)\n",
    "print(b)"
   ]
  },
  {
   "cell_type": "code",
   "execution_count": 13,
   "id": "6ce46a6e-301d-4fe8-8c59-1dcdac88ae11",
   "metadata": {},
   "outputs": [
    {
     "name": "stdout",
     "output_type": "stream",
     "text": [
      "10.0\n",
      "10\n"
     ]
    }
   ],
   "source": [
    "# 2 Convert a float to an integer.\n",
    "x = 10.00\n",
    "y = int(x)\n",
    "print(x)\n",
    "print(y)"
   ]
  },
  {
   "cell_type": "code",
   "execution_count": 15,
   "id": "72d14233-89f8-4838-a390-8c9834370fe3",
   "metadata": {},
   "outputs": [
    {
     "name": "stdout",
     "output_type": "stream",
     "text": [
      "30\n",
      "30\n"
     ]
    }
   ],
   "source": [
    "# 3 Convet an integer to a string.\n",
    "a = 30\n",
    "b = str(a)\n",
    "print(a)\n",
    "print(b)"
   ]
  },
  {
   "cell_type": "code",
   "execution_count": 21,
   "id": "b2fc93c6-44ab-4df1-a0d4-2db5eb28aab2",
   "metadata": {},
   "outputs": [
    {
     "name": "stdout",
     "output_type": "stream",
     "text": [
      "[1, 2, 3, 4, 5]\n",
      "(1, 2, 3, 4, 5)\n"
     ]
    }
   ],
   "source": [
    "# 4 Convert a list to a tuple.\n",
    "lst = [1, 2, 3, 4, 5]\n",
    "tuple_ = tuple(lst)\n",
    "print(lst)\n",
    "print(tuple_)"
   ]
  },
  {
   "cell_type": "code",
   "execution_count": 23,
   "id": "b5fa8591-0ad5-486c-ab17-776340defafe",
   "metadata": {},
   "outputs": [
    {
     "name": "stdout",
     "output_type": "stream",
     "text": [
      "(10, 30, 2, 8, 97)\n",
      "[10, 30, 2, 8, 97]\n"
     ]
    }
   ],
   "source": [
    "# 5 Convert a tuple to a list.\n",
    "tuple_ = (10, 30, 2, 8, 97)\n",
    "list_ = list(tuple_)\n",
    "print(tuple_)\n",
    "print(list_)"
   ]
  },
  {
   "cell_type": "code",
   "execution_count": null,
   "id": "d660cf88-9790-4d20-be90-4b88a17d3b42",
   "metadata": {},
   "outputs": [],
   "source": []
  }
 ],
 "metadata": {
  "kernelspec": {
   "display_name": "Python 3 (ipykernel)",
   "language": "python",
   "name": "python3"
  },
  "language_info": {
   "codemirror_mode": {
    "name": "ipython",
    "version": 3
   },
   "file_extension": ".py",
   "mimetype": "text/x-python",
   "name": "python",
   "nbconvert_exporter": "python",
   "pygments_lexer": "ipython3",
   "version": "3.11.7"
  }
 },
 "nbformat": 4,
 "nbformat_minor": 5
}
