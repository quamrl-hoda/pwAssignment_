{
 "cells": [
  {
   "cell_type": "markdown",
   "id": "eda113b3-dbbf-4bda-b2ae-080179b0648d",
   "metadata": {},
   "source": [
    "1. Explain the significance of Python keywords and provide examples of five keywords.\n",
    "\n",
    "- The keywords in Python are reserved words that have specific meanings  \n",
    "  and functions within the language.\n",
    "- we can't use them as variable names or function names or anything like \n",
    "  that\n",
    "- Example --> if, for, while, class, import\n"
   ]
  },
  {
   "cell_type": "markdown",
   "id": "53c162ad-3be6-4de8-8cc6-c015955f1c98",
   "metadata": {},
   "source": [
    "2.Describe the rules for defining identifiers in Python and provide an example\n",
    "\n",
    "  Identifiers can contain letters (both uppercase and lowercase), digits, and \n",
    "   underscores.\r",
    "  Identifiers must start with a letter or an underscore, but they can't start with a digit\n",
    "  Iddentifiers are case-sensitive, so Namele and namele are consider d different identifie.\n",
    "\r\n",
    "Identifiers can't be the same as any of Python's reserved keywords,   ke if, for, def, and so on.\n",
    " \r\n",
    "Identifiers should be descriptive and follow a consistentam  ing convention, lvariablenname_case or camelseCa\n",
    "# Valid identifiers\n",
    "my_var = 42\n",
    "myClass = \"Hello, World!\"\n",
    "_private_variable = 3.14\n",
    "\n",
    "# Invalid identifiers\n",
    "1_invalid_variable = 10 \n",
    "my-variable = 20  \n",
    "my variable = 30 e."
   ]
  },
  {
   "cell_type": "markdown",
   "id": "57f9fbf0-1acf-4328-84d6-85e463444668",
   "metadata": {},
   "source": [
    " 3. What are comments in Python, and why are they useful, Provide an example\n",
    "\n",
    "- Comments are essentially notes or explanations that we, as programmers, add to our code. They don't actually affect the way the code runs, but they can make a\n",
    " huge difference in terms of understanding and maintaining our programs.\n",
    "\n",
    "- Example\n",
    "  \n",
    "    #This is a single-line comment, used to explain a specific line of code\n",
    " \n",
    " \"\"\"\n",
    " This is a multi-line comment, which can be used to provide\n",
    " a more detailed explanation or description of a larger\n",
    " section of code.\n",
    " \"\"\""
   ]
  },
  {
   "cell_type": "markdown",
   "id": "b8dc5780-dda3-4056-8b78-1b7b85f1d3cb",
   "metadata": {},
   "source": [
    "4. Why is proper indentation important in Python\n",
    "Here's why proper indentation is so important in Python?\n",
    "\n",
    "- Readability: Consistent indentation makes our code much more readable and easier to understand. It visually separates different blocks of code, like functions, loops, and conditional statements, making the overall structure of our program more apparent.\n",
    "\n",
    "- Syntax: Python's interpreter uses the indentation to determine where one block of code ends and another begins. If the indentation is inconsistent or incorrect, our code won't run, and we'll get a syntax error.\n",
    "\n",
    "- Scope: Indentation is how Python defines the scope of variables, functions, and other code elements. The level of indentation determines which parts of our code can access and use certain variables or functions."
   ]
  },
  {
   "cell_type": "code",
   "execution_count": 10,
   "id": "34bb6c68-b5bd-4502-9abf-1d437d74977b",
   "metadata": {},
   "outputs": [
    {
     "name": "stdout",
     "output_type": "stream",
     "text": [
      "Hello, World!\n"
     ]
    }
   ],
   "source": [
    "# 5. What happens if indentation is incorrect in Python?\n",
    "    # If the indentation is incorrect, we'll likely encounter an IndentationError. \n",
    "    #example : \n",
    "if True:\n",
    " print(\"Hello, World!\")# This line should be indented\n"
   ]
  },
  {
   "cell_type": "code",
   "execution_count": 15,
   "id": "24680c7f-a9b7-404b-9a3e-38d620b18c24",
   "metadata": {},
   "outputs": [],
   "source": [
    "#6 Differentiate between expression and statement in Python with examples.\n",
    " # Expression\n",
    " #    An expression is a piece of code that produces a value. It can be as simple as a single value or a combination of values, \n",
    " #    variables, operators, and function calls that evaluate to a value\n",
    "    #examlple:\n",
    "      # simple value\n",
    "           # 45\n",
    "      # Arithmetic Operation \n",
    "           # 8+3\n",
    " # Statement\n",
    " #     A statement is a complete unit of code that performs some action. It doesn't necessarily produce a value, but it may incorporate expressions within it. \n",
    " #     Statements can include loops, conditionals, assignments, and function definitions.\n",
    "    # example :\n",
    "       # Assignment statement\n",
    "          # x = 3 + 4\n",
    "       # if statemnet\n",
    "          # if x > 5:\n",
    "          #    print(\"x is greater than 5\")\n",
    "\n",
    "   # In Summary :\n",
    "   #      An expression evaluates to a value.\n",
    "   #      A statement performs an action.\n"
   ]
  },
  {
   "cell_type": "code",
   "execution_count": null,
   "id": "063abdf6-a48b-488b-94ab-4492623ca327",
   "metadata": {},
   "outputs": [],
   "source": []
  }
 ],
 "metadata": {
  "kernelspec": {
   "display_name": "Python 3 (ipykernel)",
   "language": "python",
   "name": "python3"
  },
  "language_info": {
   "codemirror_mode": {
    "name": "ipython",
    "version": 3
   },
   "file_extension": ".py",
   "mimetype": "text/x-python",
   "name": "python",
   "nbconvert_exporter": "python",
   "pygments_lexer": "ipython3",
   "version": "3.11.7"
  }
 },
 "nbformat": 4,
 "nbformat_minor": 5
}
