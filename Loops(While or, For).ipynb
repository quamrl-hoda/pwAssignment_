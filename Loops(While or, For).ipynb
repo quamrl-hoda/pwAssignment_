{
 "cells": [
  {
   "cell_type": "code",
   "execution_count": 10,
   "id": "c66580f1-9d37-4ca1-b908-36315cc9e021",
   "metadata": {},
   "outputs": [
    {
     "name": "stdout",
     "output_type": "stream",
     "text": [
      "1\n",
      "2\n",
      "3\n",
      "4\n",
      "5\n"
     ]
    }
   ],
   "source": [
    "# 1.Print number from 1 to 5 ing a while loop.\n",
    "n = 1\n",
    "while(n<=5):\n",
    "    print(n)\n",
    "    n += 1\n",
    "   "
   ]
  },
  {
   "cell_type": "code",
   "execution_count": 24,
   "id": "ebd9d1a1-f9f5-4613-b0dd-af01a727fe88",
   "metadata": {},
   "outputs": [
    {
     "name": "stdout",
     "output_type": "stream",
     "text": [
      "sum of number from 1 to 10 is :  55\n"
     ]
    }
   ],
   "source": [
    "# 2.Calclate the m of nmber from 1 to 10 ing a while loop.\n",
    "n = 1\n",
    "sum = 0\n",
    "while(n<=10):\n",
    "    sum = sum + n\n",
    "    n += 1\n",
    "    \n",
    "    \n",
    "print(\"sum of number from 1 to 10 is : \", sum)\n",
    "    "
   ]
  },
  {
   "cell_type": "code",
   "execution_count": 32,
   "id": "4b7d0678-adff-4442-9406-9205a42a9cc4",
   "metadata": {},
   "outputs": [
    {
     "name": "stdin",
     "output_type": "stream",
     "text": [
      "Enter a number:  4\n"
     ]
    },
    {
     "name": "stdout",
     "output_type": "stream",
     "text": [
      "The factorial of 4 is 24\n"
     ]
    }
   ],
   "source": [
    "#3. Calclate the factorial of a nmber ing a for loop.\n",
    "num = int(input(\"Enter a number: \"))\n",
    "\n",
    "fact = 1\n",
    "for i in range(1, num + 1):\n",
    "    fact *= i\n",
    "\n",
    "print(f\"The factorial of {number} is {fact}\")\n"
   ]
  },
  {
   "cell_type": "code",
   "execution_count": 44,
   "id": "d72ba047-ddb3-4550-bb6e-ad3de9eb3be4",
   "metadata": {},
   "outputs": [
    {
     "name": "stdin",
     "output_type": "stream",
     "text": [
      "Enter a string :  quamrul\n"
     ]
    },
    {
     "name": "stdout",
     "output_type": "stream",
     "text": [
      "The number of vowels in the string is : 3\n"
     ]
    }
   ],
   "source": [
    "# 4 Count the number of vowel in a string using a for loop.\n",
    "\n",
    "str = input(\"Enter a string : \")\n",
    "\n",
    "vowels = 'aeiou'\n",
    "vowel_counts = 0\n",
    "\n",
    "for char in str:\n",
    "    if char in vowels:\n",
    "        vowel_counts += 1\n",
    "\n",
    "print(f\"The number of vowels in the string is : {vowel_counts}\")\n"
   ]
  },
  {
   "cell_type": "code",
   "execution_count": 76,
   "id": "2a341259-a6e4-4241-b92e-dcf1b1a46778",
   "metadata": {},
   "outputs": [
    {
     "name": "stdin",
     "output_type": "stream",
     "text": [
      "Enter a row number :  4\n"
     ]
    },
    {
     "name": "stdout",
     "output_type": "stream",
     "text": [
      "* \n",
      "* * \n",
      "* * * \n",
      "* * * * \n"
     ]
    }
   ],
   "source": [
    "# 5 Print a pattern using nested loop.\n",
    "n = int(input(\"Enter a row number : \"))\n",
    "for i in range(0, n):\n",
    "        for j in range(0,i+1):\n",
    "             print(\"*\", end = \" \")\n",
    "        print()\n"
   ]
  },
  {
   "cell_type": "code",
   "execution_count": 78,
   "id": "f1a3fdaa-7711-49d2-8d0d-fafef58eb4af",
   "metadata": {},
   "outputs": [
    {
     "name": "stdin",
     "output_type": "stream",
     "text": [
      "Enter the number of rows:  5\n",
      "Enter the number of columns:  5\n"
     ]
    },
    {
     "name": "stdout",
     "output_type": "stream",
     "text": [
      "   1   2   3   4   5\n",
      "   2   4   6   8  10\n",
      "   3   6   9  12  15\n",
      "   4   8  12  16  20\n",
      "   5  10  15  20  25\n"
     ]
    }
   ],
   "source": [
    "# 6.Generate a mltiplication table using nested loop.\n",
    "rows = int(input(\"Enter the number of rows: \"))\n",
    "cols = int(input(\"Enter the number of columns: \"))\n",
    "\n",
    "for i in range(1, rows + 1):\n",
    "    for j in range(1, cols + 1):\n",
    "        product = i * j\n",
    "        print(f\"{product:4}\", end=\"\")\n",
    "    print()\n"
   ]
  },
  {
   "cell_type": "code",
   "execution_count": null,
   "id": "d5a24c24-2356-4620-b5e8-7c40329acda2",
   "metadata": {},
   "outputs": [],
   "source": []
  }
 ],
 "metadata": {
  "kernelspec": {
   "display_name": "Python 3 (ipykernel)",
   "language": "python",
   "name": "python3"
  },
  "language_info": {
   "codemirror_mode": {
    "name": "ipython",
    "version": 3
   },
   "file_extension": ".py",
   "mimetype": "text/x-python",
   "name": "python",
   "nbconvert_exporter": "python",
   "pygments_lexer": "ipython3",
   "version": "3.11.7"
  }
 },
 "nbformat": 4,
 "nbformat_minor": 5
}
