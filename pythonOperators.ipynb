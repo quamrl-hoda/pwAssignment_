{
 "cells": [
  {
   "cell_type": "code",
   "execution_count": 9,
   "id": "c0330cbb-bb64-49c5-a133-0f80e6bfad36",
   "metadata": {},
   "outputs": [
    {
     "name": "stdin",
     "output_type": "stream",
     "text": [
      "enter the first number :  8\n",
      "enter the second number :  2\n"
     ]
    },
    {
     "name": "stdout",
     "output_type": "stream",
     "text": [
      " sum of two numbers a & b is : 10 \n",
      " difference of two numbers a & b is : 6 \n",
      " multiple of two numbers a & b is : 16 \n",
      " quotient of two numbers a & b is : 4.0 \n"
     ]
    }
   ],
   "source": [
    "#1. Calculate the sum, difference, product, and quotient of two numbers.\n",
    "num1 = int(input(\"enter the first number : \"))\n",
    "num2 = int(input(\"enter the second number : \"))\n",
    "sum = num1 + num2\n",
    "print(f\" sum of two numbers a & b is : {sum} \")\n",
    "diff = num1 - num2\n",
    "print(f\" difference of two numbers a & b is : {diff} \")\n",
    "mul = num1 * num2\n",
    "print(f\" multiple of two numbers a & b is : {mul} \")\n",
    "div = num1 / num2\n",
    "print(f\" quotient of two numbers a & b is : {div} \")"
   ]
  },
  {
   "cell_type": "code",
   "execution_count": 43,
   "id": "3b46d2c5-4179-4279-b544-8044eedf7369",
   "metadata": {},
   "outputs": [
    {
     "name": "stdin",
     "output_type": "stream",
     "text": [
      "enter a variable :  8\n"
     ]
    },
    {
     "name": "stdout",
     "output_type": "stream",
     "text": [
      " simple assignment x = 8 : 8 \n",
      " Additional assignment x += 10 : 18 \n",
      " Subtraction assignment x -= 2 : 16 \n",
      " Multiplication assignment x *= 5 : 80 \n",
      " Division assignment x /= 4 : 20.0 \n",
      " Modulo assignment x %= 3 : 2.0 \n",
      " Exponent assignment x **= 5 : 32.0 \n",
      " Flour assignment x //= 2 : 16.0 \n"
     ]
    }
   ],
   "source": [
    "#2. Perform various assignment operations on a variable.\n",
    "x = int(input(\"enter a variable : \"))\n",
    "print(f\" simple assignment x = 8 : {x} \")\n",
    "x += 10\n",
    "print(f\" Additional assignment x += 10 : {x} \")\n",
    "x -= 2\n",
    "print(f\" Subtraction assignment x -= 2 : {x} \")\n",
    "x *= 5 \n",
    "print(f\" Multiplication assignment x *= 5 : {x} \")\n",
    "x /= 4\n",
    "print(f\" Division assignment x /= 4 : {x} \")\n",
    "x %= 3\n",
    "print(f\" Modulo assignment x %= 3 : {x} \")\n",
    "x **= 5\n",
    "print(f\" Exponent assignment x **= 5 : {x} \")\n",
    "x //= 2\n",
    "print(f\" Flour assignment x //= 2 : {x} \")\n"
   ]
  },
  {
   "cell_type": "code",
   "execution_count": 49,
   "id": "beb16045-03ff-48a5-b9d5-a54a89f81e06",
   "metadata": {},
   "outputs": [
    {
     "name": "stdin",
     "output_type": "stream",
     "text": [
      "enter the first number :  8\n",
      "enter the second number :  3\n"
     ]
    },
    {
     "name": "stdout",
     "output_type": "stream",
     "text": [
      " 8 is greater than 3\n"
     ]
    }
   ],
   "source": [
    "#3. Compare two numbers and print  the results\n",
    "num1 = int(input(\"enter the first number : \"))\n",
    "num2 = int(input(\"enter the second number : \"))\n",
    "if(num1 > num2):\n",
    "    print(f\" {num1} is greater than {num2}\")\n",
    "else : \n",
    "    print(f\" {num2} is greater than {num1}\")"
   ]
  },
  {
   "cell_type": "code",
   "execution_count": 83,
   "id": "9b5a23ba-7602-482f-a8af-015f56a7481f",
   "metadata": {},
   "outputs": [
    {
     "name": "stdin",
     "output_type": "stream",
     "text": [
      "enter the first number :  5\n",
      "enter the second number :  4\n"
     ]
    },
    {
     "name": "stdout",
     "output_type": "stream",
     "text": [
      "num1 > 10 and num2 > 2 :  False\n",
      "num1 < 10 and num2 > 2 :  True\n",
      "num1 > 10 or num2 < 2) :  False\n",
      "num1 > 10 or num2 > 2 :  True\n",
      "not(num1 > 10) :  True\n"
     ]
    }
   ],
   "source": [
    "# 4. Check conditions using logical operators.\n",
    "num1 = int(input(\"enter the first number : \"))\n",
    "num2 = int(input(\"enter the second number : \"))\n",
    "print(\"num1 > 10 and num2 > 2 : \" ,num1 > 10 and num2 > 2)\n",
    "print(\"num1 < 10 and num2 > 2 : \" ,num1 < 10 and num2 > 2)\n",
    "print(\"num1 > 10 or num2 < 2) : \"   ,num1 > 10 or num2 < 2)\n",
    "print(\"num1 > 10 or num2 > 2 : \",num1 > 10 or num2 > 2)\n",
    "print(\"not(num1 > 10) : \",not(num1 > 10))\n"
   ]
  },
  {
   "cell_type": "code",
   "execution_count": 85,
   "id": "d694ca7e-218c-44f7-ad9d-e1816939dbd9",
   "metadata": {},
   "outputs": [
    {
     "name": "stdin",
     "output_type": "stream",
     "text": [
      "enter the first number :  6\n",
      "enter the second number :  4\n",
      "ener the third number :  3\n"
     ]
    },
    {
     "name": "stdout",
     "output_type": "stream",
     "text": [
      "x is y :  False\n",
      "x is z :  False\n",
      "x is not z :  True\n"
     ]
    }
   ],
   "source": [
    "#5. Check the identity of variables.\n",
    "x = int(input(\"enter the first number : \"))\n",
    "y = int(input(\"enter the second number : \"))\n",
    "z = int(input(\"ener the third number : \"))\n",
    "print(\"x is y : \" ,x is y)\n",
    "print(\"x is z : \", x is z)\n",
    "print(\"x is not z : \",x is not z)"
   ]
  },
  {
   "cell_type": "code",
   "execution_count": 89,
   "id": "1f2aa28f-b9ce-4b23-a7ef-8148ec0d010a",
   "metadata": {},
   "outputs": [
    {
     "name": "stdin",
     "output_type": "stream",
     "text": [
      "enter the first number :  4\n",
      "enter the second number :  3\n"
     ]
    },
    {
     "name": "stdout",
     "output_type": "stream",
     "text": [
      "x&y :  0\n",
      "x|y :  7\n",
      "x^y :  7\n",
      "x<<y :  32\n",
      "x>>y :  0\n",
      "~x :  -5\n"
     ]
    }
   ],
   "source": [
    "# 6. Perform bitwise operations on any two integers.\n",
    "x = int(input(\"enter the first number : \"))\n",
    "y = int(input(\"enter the second number : \"))\n",
    "print(\"x&y : \", x&y)\n",
    "print(\"x|y : \",x|y)\n",
    "print(\"x^y : \", x^y)\n",
    "print(\"x<<y : \",x<<y)\n",
    "print(\"x>>y : \",x>>y)\n",
    "print(\"~x : \",~x)\n"
   ]
  },
  {
   "cell_type": "code",
   "execution_count": null,
   "id": "a6c93014-f410-4f23-8205-31fa7bd01c7b",
   "metadata": {},
   "outputs": [],
   "source": [
    "# 7 Use unary operators to change the sign of a number.\n",
    "x = int(input(\"enter the first number : \"))\n",
    "y = int(input(\"enter the second number : \"))\n",
    "print(\"+x : \",+x)\n",
    "print(\"-y : \",-y)"
   ]
  },
  {
   "cell_type": "code",
   "execution_count": 79,
   "id": "93d9619f-1ac2-4968-942c-ba8fb2d5b427",
   "metadata": {},
   "outputs": [
    {
     "name": "stdin",
     "output_type": "stream",
     "text": [
      "enter the score of a student :  78\n"
     ]
    },
    {
     "name": "stdout",
     "output_type": "stream",
     "text": [
      " grade of student is : B\n"
     ]
    }
   ],
   "source": [
    "#8 Use the ternary operator to assign values based on conditions.\n",
    "score = int(input(\"enter the score of a student : \"))\n",
    "grade = \"A\" if score >= 90 else  \"B\" if score >= 70 else \"C\" if score >= 60 else \"F\"\n",
    "print(f\" grade of student is : {grade}\")"
   ]
  },
  {
   "cell_type": "code",
   "execution_count": null,
   "id": "608798b0-3391-46da-aa3c-c31893df6b08",
   "metadata": {},
   "outputs": [],
   "source": []
  }
 ],
 "metadata": {
  "kernelspec": {
   "display_name": "Python 3 (ipykernel)",
   "language": "python",
   "name": "python3"
  },
  "language_info": {
   "codemirror_mode": {
    "name": "ipython",
    "version": 3
   },
   "file_extension": ".py",
   "mimetype": "text/x-python",
   "name": "python",
   "nbconvert_exporter": "python",
   "pygments_lexer": "ipython3",
   "version": "3.11.7"
  }
 },
 "nbformat": 4,
 "nbformat_minor": 5
}
