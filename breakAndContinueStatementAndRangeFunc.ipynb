{
 "cells": [
  {
   "cell_type": "code",
   "execution_count": 2,
   "id": "a01487f4-44fb-4009-8697-b6818bf31846",
   "metadata": {},
   "outputs": [
    {
     "name": "stdout",
     "output_type": "stream",
     "text": [
      "1 2 3 4 "
     ]
    }
   ],
   "source": [
    "# 1. Write a program to print numbers from 1 to 10, but stop if the number is 5.\n",
    "num = 1\n",
    "while num <= 10:\n",
    "    if num == 5:\n",
    "        break;\n",
    "        \n",
    "    print(num, end = ' ')\n",
    "    num += 1\n"
   ]
  },
  {
   "cell_type": "code",
   "execution_count": 4,
   "id": "9e4ad59a-ec16-47c3-9a06-4fe3e970c43e",
   "metadata": {},
   "outputs": [
    {
     "name": "stdout",
     "output_type": "stream",
     "text": [
      "1 3 7 "
     ]
    }
   ],
   "source": [
    "# 2. Write a program to iterate through a list and stop when encountering specific element.\n",
    "my_list = [1, 3, 7, 9, 5, 8]\n",
    "for i in my_list:\n",
    "    if(i == 9):\n",
    "        break;\n",
    "    print(i, end = ' ')"
   ]
  },
  {
   "cell_type": "code",
   "execution_count": 8,
   "id": "d1b37d13-0ad3-4fa4-9262-f983d18f6cb7",
   "metadata": {},
   "outputs": [
    {
     "name": "stdout",
     "output_type": "stream",
     "text": [
      "1 3 5 7 9 "
     ]
    }
   ],
   "source": [
    "#3. Write a program to skip printing even numbers from 1 to 10.\n",
    "num = 1\n",
    "while num <= 10:\n",
    "    if num % 2 == 0:\n",
    "        num += 1\n",
    "        continue\n",
    "    print(num,end=' ')\n",
    "    num += 1\n"
   ]
  },
  {
   "cell_type": "code",
   "execution_count": 12,
   "id": "60ed744a-82c9-4aad-aa11-f94c76d0254a",
   "metadata": {},
   "outputs": [
    {
     "name": "stdout",
     "output_type": "stream",
     "text": [
      "0 1 2 3 4 5 6 7 8 9 "
     ]
    }
   ],
   "source": [
    "#4.Write a program to print numbers from 0 to 9 using range()\n",
    "for i in range(10):\n",
    "    print(i, end=' ')"
   ]
  },
  {
   "cell_type": "code",
   "execution_count": 20,
   "id": "d76eec22-17e4-4261-961b-1d7f38d9cf0c",
   "metadata": {},
   "outputs": [
    {
     "name": "stdout",
     "output_type": "stream",
     "text": [
      "Multiplication table for 2:\n",
      "2 x 1 = 2\n",
      "2 x 2 = 4\n",
      "2 x 3 = 6\n",
      "2 x 4 = 8\n",
      "2 x 5 = 10\n",
      "2 x 6 = 12\n",
      "2 x 7 = 14\n",
      "2 x 8 = 16\n",
      "2 x 9 = 18\n",
      "2 x 10 = 20\n",
      "\n"
     ]
    }
   ],
   "source": [
    "#5. Write a program to print multiplication tables from 1 to 5, but stop after the first table is printed for each number.\n",
    "for i in range(1, 6):\n",
    "    print(f\"Multiplication table for {i+1}:\")\n",
    "    for j in range(1, 11):\n",
    "        print(f\"{(i+1)} x {j} = {(i+1) * j}\")\n",
    "    print()\n",
    "    break\n"
   ]
  },
  {
   "cell_type": "code",
   "execution_count": 24,
   "id": "89d1d851-916b-45cb-842a-d84ee80bf6f4",
   "metadata": {},
   "outputs": [
    {
     "name": "stdout",
     "output_type": "stream",
     "text": [
      "1 3 5 7 9 "
     ]
    }
   ],
   "source": [
    "# 6.Write a program to skip printing even numbers using a while loop.\n",
    "num = 1\n",
    "\n",
    "while num <= 10:\n",
    "    if num % 2 != 0:\n",
    "        print(num, end = ' ')\n",
    "    num += 1\n"
   ]
  },
  {
   "cell_type": "code",
   "execution_count": null,
   "id": "ac42b0ae-2f4c-443c-ac0c-791ba763c44c",
   "metadata": {},
   "outputs": [],
   "source": []
  }
 ],
 "metadata": {
  "kernelspec": {
   "display_name": "Python 3 (ipykernel)",
   "language": "python",
   "name": "python3"
  },
  "language_info": {
   "codemirror_mode": {
    "name": "ipython",
    "version": 3
   },
   "file_extension": ".py",
   "mimetype": "text/x-python",
   "name": "python",
   "nbconvert_exporter": "python",
   "pygments_lexer": "ipython3",
   "version": "3.11.7"
  }
 },
 "nbformat": 4,
 "nbformat_minor": 5
}
